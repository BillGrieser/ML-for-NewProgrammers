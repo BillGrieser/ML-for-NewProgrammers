{
  "nbformat": 4,
  "nbformat_minor": 0,
  "metadata": {
    "colab": {
      "name": "MLforMS.ipynb",
      "version": "0.3.2",
      "provenance": [],
      "collapsed_sections": [],
      "toc_visible": true,
      "include_colab_link": true
    },
    "kernelspec": {
      "name": "python3",
      "display_name": "Python 3"
    }
  },
  "cells": [
    {
      "cell_type": "markdown",
      "metadata": {
        "id": "view-in-github",
        "colab_type": "text"
      },
      "source": [
        "<a href=\"https://colab.research.google.com/github/BillGrieser/ML-for-NewProgrammers/blob/master/MLforMS.ipynb\" target=\"_parent\"><img src=\"https://colab.research.google.com/assets/colab-badge.svg\" alt=\"Open In Colab\"/></a>"
      ]
    },
    {
      "metadata": {
        "id": "mXPsV3RUA4Ep",
        "colab_type": "text"
      },
      "cell_type": "markdown",
      "source": [
        "# Machine Learning for New Programmers\n",
        "\n",
        "This notebook illustrates a few basic concepts of Machine Learning. It is designed for students that are learning how to program.\n",
        "\n",
        "## What is Machine Learning?\n",
        "\n",
        "When you have written programs so far, you start with having something in mind that you want the program to do: play a game like Rock-Paper-Scissors or NIM, add up items in a shopping cart, or whatever. This is still true for programs you write using Machine Learning. \n",
        "\n",
        "**Standard Apprach **\n",
        "1. You have something in mind you want the program to do.\n",
        "2. You figure out how to do it\n",
        "2. You write the program to do what you figured out.\n",
        "\n",
        "**Machine Learning Approach**\n",
        "1. You have something in mind you want the program to do.\n",
        "2. You write a program that learns from experience how to do what you want to do.\n",
        "3. You train the program using data and let it figure things out \n",
        "\n",
        "So you aren't writing a program that does your task; you are writing a program that figures out how to do your task.\n",
        "\n",
        "## Machine Learning Definition\n",
        "\n",
        "Machine Learning: Programs that acquire skills through experience.\n",
        "\n",
        "\n",
        "\n",
        "\n",
        "\n",
        "\n",
        "\n",
        "\n",
        "\n"
      ]
    },
    {
      "metadata": {
        "id": "eGUMBNrsrEOC",
        "colab_type": "text"
      },
      "cell_type": "markdown",
      "source": [
        "# Breaking the Caesar Cipher\n",
        "\n",
        "You  may remember that in the Caesar Cipher, there is a **Key** value that indicates how many places in the alphabet to shift each letter in the message to make an encrypted version. The sender and receiver agree on what key to use and keep it secret. \n",
        "\n",
        "> **How it Works**   The sender shifts each letter over by the number of positions given by   the key to make an encrypted message; the receiver shifts the letters in the message the same amount in the other direction to get the original message back.\n",
        "\n",
        "To **break** a cipher means to figure out what the encrypted message says without knowing the secret key\n",
        "\n",
        "We are going to write a program that breaks the cipher to let us read an encrypted message.\n",
        "\n",
        "### Setup\n",
        "\n",
        "First let's do some setup. This isn't machine learning yet, it is just something we need to do to get ready. (A !  before a line tells the server that what follows is not Python but is a command to execute on the server. It is OK to treat this as magic for now. These lines just make it so we can use some files)\n"
      ]
    },
    {
      "metadata": {
        "id": "vDDawCk3coT-",
        "colab_type": "code",
        "outputId": "f75a7b31-659a-4062-8941-0f20d59a74be",
        "colab": {
          "base_uri": "https://localhost:8080/",
          "height": 102
        }
      },
      "cell_type": "code",
      "source": [
        "# Download the data that we will use\n",
        "!wget -q -N https://raw.githubusercontent.com/BillGrieser/ML-for-NewProgrammers/master/train.txt\n",
        "!wget -q -N https://raw.githubusercontent.com/BillGrieser/ML-for-NewProgrammers/master/encrypted.txt\n",
        "!wget -q -N https://raw.githubusercontent.com/BillGrieser/ML-for-NewProgrammers/master/another_mystery.txt\n",
        "!ls -l"
      ],
      "execution_count": 44,
      "outputs": [
        {
          "output_type": "stream",
          "text": [
            "total 28\n",
            "-rw-r--r-- 1 root root  422 Dec 16 20:37 another_mystery.txt\n",
            "-rw-r--r-- 1 root root 3270 Dec 16 20:37 encrypted.txt\n",
            "drwxr-xr-x 1 root root 4096 Dec 10 17:34 sample_data\n",
            "-rw-r--r-- 1 root root 2888 Dec 16 20:37 train.txt\n"
          ],
          "name": "stdout"
        }
      ]
    },
    {
      "metadata": {
        "id": "dZQRqYzjwZcT",
        "colab_type": "text"
      },
      "cell_type": "markdown",
      "source": [
        "### Set some constants\n",
        "\n",
        "Note LETTERS, which has to be the letters of the alphabet in order."
      ]
    },
    {
      "metadata": {
        "id": "ZZuaH57VA3A2",
        "colab_type": "code",
        "colab": {
          "base_uri": "https://localhost:8080/",
          "height": 34
        },
        "outputId": "4b99edad-d3a3-4231-865e-ffeb37fa6c59"
      },
      "cell_type": "code",
      "source": [
        "# Set up constants\n",
        "LETTERS= 'ABCDEFGHIJKLMNOPQRSTUVWXYZ'\n",
        "NUM_LETTERS = len(LETTERS)\n",
        "TRAINING_DATA = 'train.txt'\n",
        "FILE_TO_DECRYPT = 'encrypted.txt'\n",
        "\n",
        "ANOTHER_MYSTERY = 'another_mystery.txt'\n",
        "\n",
        "print (\"Constants defined.\")"
      ],
      "execution_count": 45,
      "outputs": [
        {
          "output_type": "stream",
          "text": [
            "Constants defined.\n"
          ],
          "name": "stdout"
        }
      ]
    },
    {
      "metadata": {
        "id": "1U3zoC3CxQ9q",
        "colab_type": "text"
      },
      "cell_type": "markdown",
      "source": [
        "## Write the Caesar Cipher functions\n",
        "\n",
        "We will need a python implementation of the Caesar cipher: here they are:"
      ]
    },
    {
      "metadata": {
        "id": "TWe0ZBTPB3QM",
        "colab_type": "code",
        "colab": {
          "base_uri": "https://localhost:8080/",
          "height": 34
        },
        "outputId": "1ee8aa63-c4a7-48d0-b485-0daebba8c4e9"
      },
      "cell_type": "code",
      "source": [
        "def shift_letter(in_character, in_shiftamount):\n",
        "    \"\"\"\n",
        "    Take in a character. If it is a letter, shift it to another letter\n",
        "    based on the shift amount and return. Otherwise just return\n",
        "    the the character\n",
        "    \"\"\"\n",
        "    character_upper = in_character.upper()\n",
        "\n",
        "    if character_upper in LETTERS:        \n",
        "        pos = LETTERS.index(character_upper)    \n",
        "        new_pos = (pos + in_shiftamount) % len(LETTERS) # Shift and wrap\n",
        "        return LETTERS[new_pos]\n",
        "    else:\n",
        "        return in_character        # Not a letter, just return\n",
        "      \n",
        "def encrypt(clear_text, key):\n",
        "    \"\"\"\n",
        "    Apply Caesar Cipher to the input text using the input key.\n",
        "    \"\"\"\n",
        "    encrypted_text = \"\"\n",
        "\n",
        "    # For each letter in text, convert based on key. For non letters,\n",
        "    # just pass through\n",
        "    for x in clear_text:\n",
        "        encrypted_text += shift_letter(x, key)  # Shift each letter \n",
        "\n",
        "    return encrypted_text      \n",
        "\n",
        "def decrypt(encrypted_text, key):\n",
        "    \"\"\"\n",
        "    Reverse the Caesar Cipher on the input text using the input key.\n",
        "    \"\"\"\n",
        "    clear_text = \"\"\n",
        "\n",
        "    # For each letter in text, convert based on key. For non letters,\n",
        "    # just pass through\n",
        "    for x in encrypted_text:\n",
        "        clear_text += shift_letter(x, -1 * key) # Shift the other way\n",
        "\n",
        "    return clear_text   \n",
        "  \n",
        "print(\"Cipher functions defined.\")"
      ],
      "execution_count": 46,
      "outputs": [
        {
          "output_type": "stream",
          "text": [
            "Cipher functions defined.\n"
          ],
          "name": "stdout"
        }
      ]
    },
    {
      "metadata": {
        "id": "z1zBNj3x16gD",
        "colab_type": "text"
      },
      "cell_type": "markdown",
      "source": [
        "### Testing\n",
        "It is good to test after writing each piece of code. This is called \"write a little, test a little\" and it will help you find small errors before they become big errors.\n"
      ]
    },
    {
      "metadata": {
        "id": "7yKt0vSqCg8s",
        "colab_type": "code",
        "outputId": "f6f2f7fe-19e8-4eeb-89de-b4e68438d7c2",
        "colab": {
          "base_uri": "https://localhost:8080/",
          "height": 119
        }
      },
      "cell_type": "code",
      "source": [
        "print (\"Shift A over once -- this should give a B\")\n",
        "print(\"Result:\", shift_letter('A',1 ))\n",
        "print (\"Shift A over 10 times -- this should give a K\")\n",
        "print(\"Result:\", shift_letter('A',10))\n",
        "print(\"Handling shifts past the end of the alphabet can be tricky. What happens if we shift Z by 2?\")\n",
        "print(\"Result:\", shift_letter('Z',2))"
      ],
      "execution_count": 47,
      "outputs": [
        {
          "output_type": "stream",
          "text": [
            "Shift A over once -- this should give a B\n",
            "Result: B\n",
            "Shift A over 10 times -- this should give a K\n",
            "Result: K\n",
            "Handling shifts past the end of the alphabet can be tricky. What happens if we shift Z by 2?\n",
            "Result: B\n"
          ],
          "name": "stdout"
        }
      ]
    },
    {
      "metadata": {
        "id": "TIF2EHus2vA6",
        "colab_type": "code",
        "outputId": "0bb174da-487a-4454-ce9a-ace4fa40e989",
        "colab": {
          "base_uri": "https://localhost:8080/",
          "height": 85
        }
      },
      "cell_type": "code",
      "source": [
        "print (\"Now undo all the shifts. We should get A, A, Z\")\n",
        "print(shift_letter('B',-1))\n",
        "print(shift_letter('K',-10))\n",
        "print(shift_letter('B',-2))\n",
        "      "
      ],
      "execution_count": 48,
      "outputs": [
        {
          "output_type": "stream",
          "text": [
            "Now undo all the shifts. We should get A, A, Z\n",
            "A\n",
            "A\n",
            "Z\n"
          ],
          "name": "stdout"
        }
      ]
    },
    {
      "metadata": {
        "id": "9FS3fMg94ur4",
        "colab_type": "code",
        "outputId": "7107216e-2163-43ed-f7e5-db0c8a0e2d5d",
        "colab": {
          "base_uri": "https://localhost:8080/",
          "height": 51
        }
      },
      "cell_type": "code",
      "source": [
        "# Lets encrypyt and decrypt\n",
        "test_message = encrypt(\"No one goes there anymore; it is too crowded.\", 8)\n",
        "print (\"Encrpted message:\\t\", test_message)\n",
        "print(\"Decrypted message:\\t\", decrypt(test_message, 8))\n"
      ],
      "execution_count": 49,
      "outputs": [
        {
          "output_type": "stream",
          "text": [
            "Encrpted message:\t VW WVM OWMA BPMZM IVGUWZM; QB QA BWW KZWELML.\n",
            "Decrypted message:\t NO ONE GOES THERE ANYMORE; IT IS TOO CROWDED.\n"
          ],
          "name": "stdout"
        }
      ]
    },
    {
      "metadata": {
        "id": "EV6p3DNlfcCw",
        "colab_type": "text"
      },
      "cell_type": "markdown",
      "source": [
        "## How would a human do it?\n",
        "\n",
        "How would a human figure out the key if all they had was an encrypted message? Because there are only 25 keys, you might try each key until you got something that looks like English.\n",
        "\n",
        "Take a look:"
      ]
    },
    {
      "metadata": {
        "id": "x-b5sT-Vgf-I",
        "colab_type": "code",
        "outputId": "627ee8e6-a9c8-4baf-b2ce-9767b727a646",
        "colab": {
          "base_uri": "https://localhost:8080/",
          "height": 459
        }
      },
      "cell_type": "code",
      "source": [
        "# Try each key -- one of these will be the message\n",
        "for key in range(NUM_LETTERS):\n",
        "    print(key, \":\\t\", decrypt(test_message, key))"
      ],
      "execution_count": 50,
      "outputs": [
        {
          "output_type": "stream",
          "text": [
            "0 :\t VW WVM OWMA BPMZM IVGUWZM; QB QA BWW KZWELML.\n",
            "1 :\t UV VUL NVLZ AOLYL HUFTVYL; PA PZ AVV JYVDKLK.\n",
            "2 :\t TU UTK MUKY ZNKXK GTESUXK; OZ OY ZUU IXUCJKJ.\n",
            "3 :\t ST TSJ LTJX YMJWJ FSDRTWJ; NY NX YTT HWTBIJI.\n",
            "4 :\t RS SRI KSIW XLIVI ERCQSVI; MX MW XSS GVSAHIH.\n",
            "5 :\t QR RQH JRHV WKHUH DQBPRUH; LW LV WRR FURZGHG.\n",
            "6 :\t PQ QPG IQGU VJGTG CPAOQTG; KV KU VQQ ETQYFGF.\n",
            "7 :\t OP POF HPFT UIFSF BOZNPSF; JU JT UPP DSPXEFE.\n",
            "8 :\t NO ONE GOES THERE ANYMORE; IT IS TOO CROWDED.\n",
            "9 :\t MN NMD FNDR SGDQD ZMXLNQD; HS HR SNN BQNVCDC.\n",
            "10 :\t LM MLC EMCQ RFCPC YLWKMPC; GR GQ RMM APMUBCB.\n",
            "11 :\t KL LKB DLBP QEBOB XKVJLOB; FQ FP QLL ZOLTABA.\n",
            "12 :\t JK KJA CKAO PDANA WJUIKNA; EP EO PKK YNKSZAZ.\n",
            "13 :\t IJ JIZ BJZN OCZMZ VITHJMZ; DO DN OJJ XMJRYZY.\n",
            "14 :\t HI IHY AIYM NBYLY UHSGILY; CN CM NII WLIQXYX.\n",
            "15 :\t GH HGX ZHXL MAXKX TGRFHKX; BM BL MHH VKHPWXW.\n",
            "16 :\t FG GFW YGWK LZWJW SFQEGJW; AL AK LGG UJGOVWV.\n",
            "17 :\t EF FEV XFVJ KYVIV REPDFIV; ZK ZJ KFF TIFNUVU.\n",
            "18 :\t DE EDU WEUI JXUHU QDOCEHU; YJ YI JEE SHEMTUT.\n",
            "19 :\t CD DCT VDTH IWTGT PCNBDGT; XI XH IDD RGDLSTS.\n",
            "20 :\t BC CBS UCSG HVSFS OBMACFS; WH WG HCC QFCKRSR.\n",
            "21 :\t AB BAR TBRF GURER NALZBER; VG VF GBB PEBJQRQ.\n",
            "22 :\t ZA AZQ SAQE FTQDQ MZKYADQ; UF UE FAA ODAIPQP.\n",
            "23 :\t YZ ZYP RZPD ESPCP LYJXZCP; TE TD EZZ NCZHOPO.\n",
            "24 :\t XY YXO QYOC DROBO KXIWYBO; SD SC DYY MBYGNON.\n",
            "25 :\t WX XWN PXNB CQNAN JWHVXAN; RC RB CXX LAXFMNM.\n"
          ],
          "name": "stdout"
        }
      ]
    },
    {
      "metadata": {
        "id": "lTOgYUOchGcX",
        "colab_type": "text"
      },
      "cell_type": "markdown",
      "source": [
        "This is easy for humans (who speak English) to pick out the sentence with real words. One looks like English and the rest are gibberish. A program wouldn't know the difference -- until we teach it.\n",
        "\n",
        "##  How the Program will do it\n",
        "\n",
        "* Learn what English looks like\n",
        "* Take our mystery message and decrypt it with every possible key\n",
        "* Figure out which key gives us something that looks like English\n",
        "\n",
        "\n",
        "### Learn what English looks like\n",
        "\n",
        "Let's load some English that our program will use to figure out what English looks like. We call this **Training Data**.\n"
      ]
    },
    {
      "metadata": {
        "id": "4rokOlqRjfHU",
        "colab_type": "code",
        "outputId": "0a9009d9-9729-4478-de34-18d1014da67b",
        "colab": {
          "base_uri": "https://localhost:8080/",
          "height": 1173
        }
      },
      "cell_type": "code",
      "source": [
        "with open(TRAINING_DATA, 'r') as f:\n",
        "    training_data = f.read()\n",
        " \n",
        "print(training_data)"
      ],
      "execution_count": 51,
      "outputs": [
        {
          "output_type": "stream",
          "text": [
            "She opened a little door and Dorothy walked boldly through and found\n",
            "herself in a wonderful place. It was a big, round room with a high\n",
            "arched roof, and the walls and ceiling and floor were covered with\n",
            "large emeralds set closely together. In the center of the roof was\n",
            "great light, as bright as the sun, which made the emeralds sparkle in a\n",
            "wonderful manner.\n",
            "\n",
            "But what interested Dorothy most was the big throne of green marble\n",
            "that stood in the middle of the room. It was shaped like a chair and\n",
            "sparkled with gems, as did everything else. In the center of the chair\n",
            "was an enormous Head, without a body to support it or any arms or legs\n",
            "whatever. There was no hair upon this head, but it had eyes and a nose\n",
            "and mouth, and was much bigger than the head of the biggest giant.\n",
            "\n",
            "As Dorothy gazed upon this in wonder and fear, the eyes turned slowly\n",
            "and looked at her sharply and steadily. Then the mouth moved, and\n",
            "Dorothy heard a voice say:\n",
            "\n",
            "\"I am Oz, the Great and Terrible. Who are you, and why do you seek me?\"\n",
            "\n",
            "It was not such an awful voice as she had expected to come from the big\n",
            "Head; so she took courage and answered:\n",
            "\n",
            "\"I am Dorothy, the Small and Meek. I have come to you for help.\"\n",
            "\n",
            "The eyes looked at her thoughtfully for a full minute. Then said the\n",
            "voice:\n",
            "\n",
            "\"Where did you get the silver shoes?\"\n",
            "\n",
            "\"I got them from the Wicked Witch of the East, when my house fell on\n",
            "her and killed her,\" she replied.\n",
            "\n",
            "\"Where did you get the mark upon your forehead?\" continued the voice.\n",
            "\n",
            "\"That is where the Good Witch of the North kissed me when she bade me\n",
            "good-bye and sent me to you,\" said the girl.\n",
            "\n",
            "Again the eyes looked at her sharply, and they saw she was telling the\n",
            "truth. Then Oz asked, \"What do you wish me to do?\"\n",
            "\n",
            "\"Send me back to Kansas, where my Aunt Em and Uncle Henry are,\" she\n",
            "answered earnestly. \"I don't like your country, although it is so\n",
            "beautiful. And I am sure Aunt Em will be dreadfully worried over my\n",
            "being away so long.\"\n",
            "\n",
            "The eyes winked three times, and then they turned up to the ceiling and\n",
            "down to the floor and rolled around so queerly that they seemed to see\n",
            "every part of the room. And at last they looked at Dorothy again.\n",
            "\n",
            "\"Why should I do this for you?\" asked Oz.\n",
            "\n",
            "\"Because you are strong and I am weak; because you are a Great Wizard\n",
            "and I am only a little girl.\"\n",
            "\n",
            "\"But you were strong enough to kill the Wicked Witch of the East,\" said\n",
            "Oz.\n",
            "\n",
            "\"That just happened,\" returned Dorothy simply; \"I could not help it.\"\n",
            "\n",
            "\"Well,\" said the Head, \"I will give you my answer. You have no right to\n",
            "expect me to send you back to Kansas unless you do something for me in\n",
            "return. In this country everyone must pay for everything he gets. If\n",
            "you wish me to use my magic power to send you home again you must do\n",
            "something for me first. Help me and I will help you.\"\n",
            "\n",
            "\"What must I do?\" asked the girl.\n",
            "\n"
          ],
          "name": "stdout"
        }
      ]
    },
    {
      "metadata": {
        "id": "LwQwVAZhobeF",
        "colab_type": "text"
      },
      "cell_type": "markdown",
      "source": [
        "It turns out that in English, we use some letters more often than others. We are going to use the training data to teach the program how to recognize valid English by how often each letter occurs.\n",
        "\n",
        "#### Letter Percentages\n",
        "\n",
        "This routine counts the number of times each letter appears in some text, and then converts this to a percentage. This lets us compare blocks of text of different lengths."
      ]
    },
    {
      "metadata": {
        "id": "SW3zXwlIEoCS",
        "colab_type": "code",
        "colab": {
          "base_uri": "https://localhost:8080/",
          "height": 459
        },
        "outputId": "faff5385-3232-4e97-b9b2-8f83570eea02"
      },
      "cell_type": "code",
      "source": [
        "def get_letter_percentages(text):\n",
        "    \"\"\"\n",
        "    Given a text string, calculate the percentage of the message made up\n",
        "    of each letter, and return this in a dictionary.\n",
        "    \"\"\"\n",
        "    # Declare a dictionary to hold the count of each letter. The\n",
        "    # key is the letter and the value is the count.\n",
        "    letter_counts = {}\n",
        "    total_letters = 0\n",
        "    \n",
        "    # Initialize\n",
        "    for x in LETTERS:\n",
        "        letter_counts[x] = 0\n",
        "        \n",
        "    # Note: There is a fancy way to do this:\n",
        "    #letter_counts = {x:0 for x in LETTERS}\n",
        "  \n",
        "    # Visit each letter in the text and count it\n",
        "    for ct in text.upper():\n",
        "        if ct in LETTERS:\n",
        "            letter_counts[ct] += 1\n",
        "            total_letters += 1\n",
        "    \n",
        "    # Turn the counts into percentages\n",
        "    letter_percentages = {}\n",
        "    for cl in LETTERS:\n",
        "        letter_percentages[cl] = 100 * (letter_counts[cl] / total_letters)\n",
        "        \n",
        "    return letter_percentages\n",
        "  \n",
        "# Test\n",
        "get_letter_percentages(\"Hello World\")\n"
      ],
      "execution_count": 52,
      "outputs": [
        {
          "output_type": "execute_result",
          "data": {
            "text/plain": [
              "{'A': 0.0,\n",
              " 'B': 0.0,\n",
              " 'C': 0.0,\n",
              " 'D': 10.0,\n",
              " 'E': 10.0,\n",
              " 'F': 0.0,\n",
              " 'G': 0.0,\n",
              " 'H': 10.0,\n",
              " 'I': 0.0,\n",
              " 'J': 0.0,\n",
              " 'K': 0.0,\n",
              " 'L': 30.0,\n",
              " 'M': 0.0,\n",
              " 'N': 0.0,\n",
              " 'O': 20.0,\n",
              " 'P': 0.0,\n",
              " 'Q': 0.0,\n",
              " 'R': 10.0,\n",
              " 'S': 0.0,\n",
              " 'T': 0.0,\n",
              " 'U': 0.0,\n",
              " 'V': 0.0,\n",
              " 'W': 10.0,\n",
              " 'X': 0.0,\n",
              " 'Y': 0.0,\n",
              " 'Z': 0.0}"
            ]
          },
          "metadata": {
            "tags": []
          },
          "execution_count": 52
        }
      ]
    },
    {
      "metadata": {
        "id": "9zQlTdZ7mSIm",
        "colab_type": "text"
      },
      "cell_type": "markdown",
      "source": [
        "#### Plot Helper 1\n",
        "Don't worry about this  -- it is just used to visualize some data, but isn't part of breaking the cipher."
      ]
    },
    {
      "metadata": {
        "id": "6R7LsjDSlmrW",
        "colab_type": "code",
        "colab": {}
      },
      "cell_type": "code",
      "source": [
        "### Next-level stuff follows ###\n",
        "%matplotlib inline\n",
        "import matplotlib.pyplot as plt\n",
        "import numpy as np\n",
        "\n",
        "def plot_letter_precentages(dictionary_to_plot, title):\n",
        "  \"\"\"\n",
        "  Plot the results of a call to get_letter_percentages()\n",
        "  \"\"\"\n",
        "  index = np.arange(NUM_LETTERS)\n",
        "  bar_width = 0.7\n",
        "  vals = [dictionary_to_plot[L] for L in LETTERS]\n",
        "  cols = [L for L in LETTERS]\n",
        "  plt.subplots(1, figsize=(10,5))\n",
        "  plt.bar(index, vals, width=bar_width, label=cols)\n",
        "  plt.xticks(index, cols)\n",
        "  plt.title(title)\n",
        "  plt.show() "
      ],
      "execution_count": 0,
      "outputs": []
    },
    {
      "metadata": {
        "id": "CTXkbqdVuOUF",
        "colab_type": "text"
      },
      "cell_type": "markdown",
      "source": [
        "### Train the program\n",
        "\n",
        "This training will be short and simple -- we wil give the training data to the program and let it learn from it."
      ]
    },
    {
      "metadata": {
        "id": "UzuF8Q59tcZW",
        "colab_type": "code",
        "outputId": "b61d66ba-3851-484e-d561-60e616c25e9f",
        "colab": {
          "base_uri": "https://localhost:8080/",
          "height": 335
        }
      },
      "cell_type": "code",
      "source": [
        "# Get some knowledge\n",
        "how_english_is = get_letter_percentages(training_data)\n",
        "\n",
        "# Plot it\n",
        "plot_letter_precentages(how_english_is, \n",
        "              \"Pecentage of text made up of each letter in the training data\")"
      ],
      "execution_count": 54,
      "outputs": [
        {
          "output_type": "display_data",
          "data": {
            "image/png": "[encoded data removed]",
            "text/plain": [
              "<matplotlib.figure.Figure at 0x7fd836dd4cc0>"
            ]
          },
          "metadata": {
            "tags": []
          }
        }
      ]
    },
    {
      "metadata": {
        "id": "Zr_ymh90oYgF",
        "colab_type": "text"
      },
      "cell_type": "markdown",
      "source": [
        "### The Enccrypted Message\n",
        "\n",
        "Now let's get a look at the encrypted message. We don't know the key, so we want the program to use it's knowledge of English to figure out which of the possible decryptions is correct.\n",
        "\n"
      ]
    },
    {
      "metadata": {
        "id": "_nJBs-sEHe46",
        "colab_type": "code",
        "outputId": "bfc44e20-f285-4d20-ff9b-765b3b73e7a4",
        "colab": {
          "base_uri": "https://localhost:8080/",
          "height": 1275
        }
      },
      "cell_type": "code",
      "source": [
        "with open(FILE_TO_DECRYPT, 'r') as f:\n",
        "    mystery_message = f.read()\n",
        " \n",
        "print(mystery_message)"
      ],
      "execution_count": 55,
      "outputs": [
        {
          "output_type": "stream",
          "text": [
            "\"BZCC KYV NZTBVU NZKTY FW KYV NVJK,\" REJNVIVU FQ.\n",
            "\n",
            "\"SLK Z TREEFK!\" VOTCRZDVU UFIFKYP, XIVRKCP JLIGIZJVU.\n",
            "\n",
            "\"PFL BZCCVU KYV NZKTY FW KYV VRJK REU PFL NVRI KYV JZCMVI JYFVJ, NYZTY\n",
            "SVRI R GFNVIWLC TYRID. KYVIV ZJ EFN SLK FEV NZTBVU NZKTY CVWK ZE RCC\n",
            "KYZJ CREU, REU NYVE PFL TRE KVCC DV JYV ZJ UVRU Z NZCC JVEU PFL SRTB KF\n",
            "BREJRJ--SLK EFK SVWFIV.\"\n",
            "\n",
            "KYV CZKKCV XZIC SVXRE KF NVVG, JYV NRJ JF DLTY UZJRGGFZEKVU; REU KYV\n",
            "VPVJ NZEBVU RXRZE REU CFFBVU LGFE YVI REOZFLJCP, RJ ZW KYV XIVRK FQ\n",
            "WVCK KYRK JYV TFLCU YVCG YZD ZW JYV NFLCU.\n",
            "\n",
            "\"Z EVMVI BZCCVU REPKYZEX, NZCCZEXCP,\" JYV JFSSVU. \"VMVE ZW Z NREKVU KF,\n",
            "YFN TFLCU Z BZCC KYV NZTBVU NZKTY? ZW PFL, NYF RIV XIVRK REU KVIIZSCV,\n",
            "TREEFK BZCC YVI PFLIJVCW, YFN UF PFL VOGVTK DV KF UF ZK?\"\n",
            "\n",
            "\"Z UF EFK BEFN,\" JRZU KYV YVRU; \"SLK KYRK ZJ DP REJNVI, REU LEKZC KYV\n",
            "NZTBVU NZKTY UZVJ PFL NZCC EFK JVV PFLI LETCV REU RLEK RXRZE. IVDVDSVI\n",
            "KYRK KYV NZKTY ZJ NZTBVU--KIVDVEUFLJCP NZTBVU--REU FLXYK KF SV BZCCVU.\n",
            "EFN XF, REU UF EFK RJB KF JVV DV RXRZE LEKZC PFL YRMV UFEV PFLI KRJB.\"\n",
            "\n",
            "JFIIFNWLCCP UFIFKYP CVWK KYV KYIFEV IFFD REU NVEK SRTB NYVIV KYV CZFE\n",
            "REU KYV JTRIVTIFN REU KYV KZE NFFUDRE NVIV NRZKZEX KF YVRI NYRK FQ YRU\n",
            "JRZU KF YVI. \"KYVIV ZJ EF YFGV WFI DV,\" JYV JRZU JRUCP, \"WFI FQ NZCC\n",
            "EFK JVEU DV YFDV LEKZC Z YRMV BZCCVU KYV NZTBVU NZKTY FW KYV NVJK; REU\n",
            "KYRK Z TRE EVMVI UF.\"\n",
            "\n",
            "YVI WIZVEUJ NVIV JFIIP, SLK TFLCU UF EFKYZEX KF YVCG YVI; JF UFIFKYP\n",
            "NVEK KF YVI FNE IFFD REU CRP UFNE FE KYV SVU REU TIZVU YVIJVCW KF JCVVG.\n",
            "\n",
            "KYV EVOK DFIEZEX KYV JFCUZVI NZKY KYV XIVVE NYZJBVIJ TRDV KF KYV\n",
            "JTRIVTIFN REU JRZU:\n",
            "\n",
            "\"TFDV NZKY DV, WFI FQ YRJ JVEK WFI PFL.\"\n",
            "\n",
            "JF KYV JTRIVTIFN WFCCFNVU YZD REU NRJ RUDZKKVU ZEKF KYV XIVRK KYIFEV\n",
            "IFFD, NYVIV YV JRN, JZKKZEX ZE KYV VDVIRCU KYIFEV, R DFJK CFMVCP CRUP.\n",
            "JYV NRJ UIVJJVU ZE XIVVE JZCB XRLQV REU NFIV LGFE YVI WCFNZEX XIVVE\n",
            "CFTBJ R TIFNE FW AVNVCJ. XIFNZEX WIFD YVI JYFLCUVIJ NVIV NZEXJ,\n",
            "XFIXVFLJ ZE TFCFI REU JF CZXYK KYRK KYVP WCLKKVIVU ZW KYV JCZXYKVJK\n",
            "SIVRKY FW RZI IVRTYVU KYVD.\n",
            "\n",
            "NYVE KYV JTRIVTIFN YRU SFNVU, RJ GIVKKZCP RJ YZJ JKIRN JKLWWZEX NFLCU\n",
            "CVK YZD, SVWFIV KYZJ SVRLKZWLC TIVRKLIV, JYV CFFBVU LGFE YZD JNVVKCP,\n",
            "REU JRZU:\n",
            "\n",
            "\"Z RD FQ, KYV XIVRK REU KVIIZSCV. NYF RIV PFL, REU NYP UF PFL JVVB DV?\"\n",
            "\n",
            "EFN KYV JTRIVTIFN, NYF YRU VOGVTKVU KF JVV KYV XIVRK YVRU UFIFKYP YRU\n",
            "KFCU YZD FW, NRJ DLTY RJKFEZJYVU; SLK YV REJNVIVU YVI SIRMVCP.\n",
            "\n",
            "\"Z RD FECP R JTRIVTIFN, JKLWWVU NZKY JKIRN. KYVIVWFIV Z YRMV EF SIRZEJ,\n",
            "REU Z TFDV KF PFL GIRPZEX KYRK PFL NZCC GLK SIRZEJ ZE DP YVRU ZEJKVRU\n",
            "FW JKIRN, JF KYRK Z DRP SVTFDV RJ DLTY R DRE RJ REP FKYVI ZE PFLI\n",
            "UFDZEZFEJ.\"\n",
            "\n",
            "\"NYP JYFLCU Z UF KYZJ WFI PFL?\" RJBVU KYV CRUP.\n",
            "\n",
            "\"SVTRLJV PFL RIV NZJV REU GFNVIWLC, REU EF FEV VCJV TRE YVCG DV,\"\n",
            "REJNVIVU KYV JTRIVTIFN.\n",
            "\n",
            "\"Z EVMVI XIREK WRMFIJ NZKYFLK JFDV IVKLIE,\" JRZU FQ; \"SLK KYZJ DLTY Z\n",
            "NZCC GIFDZJV. ZW PFL NZCC BZCC WFI DV KYV NZTBVU NZKTY FW KYV NVJK, Z\n",
            "NZCC SVJKFN LGFE PFL R XIVRK DREP SIRZEJ, REU JLTY XFFU SIRZEJ KYRK PFL \n",
            "NZCC SV KYV NZJVJK DRE ZE RCC KYV CREU FW FQ.\"\n",
            "\n",
            "\"Z KYFLXYK PFL RJBVU UFIFKYP KF BZCC KYV NZKTY,\" JRZU KYV JTRIVTIFN, ZE\n",
            "JLIGIZJV.\n",
            "\n",
            "\"JF Z UZU. Z UFE'K TRIV NYF BZCCJ YVI. SLK LEKZC JYV ZJ UVRU Z NZCC EFK\n",
            "XIREK PFLI NZJY. EFN XF, REU UF EFK JVVB DV RXRZE LEKZC PFL YRMV VRIEVU\n",
            "KYV SIRZEJ PFL JF XIVRKCP UVJZIV.\"\n",
            "\n"
          ],
          "name": "stdout"
        }
      ]
    },
    {
      "metadata": {
        "id": "ZRpnjWtRnYpE",
        "colab_type": "code",
        "colab": {
          "base_uri": "https://localhost:8080/",
          "height": 335
        },
        "outputId": "c0ab8634-9b73-4b6d-e19c-75de94b82a1d"
      },
      "cell_type": "code",
      "source": [
        "plot_letter_precentages(get_letter_percentages(mystery_message), \n",
        "                        \"Pecentage of text made up of each letter in the mystery message\")"
      ],
      "execution_count": 56,
      "outputs": [
        {
          "output_type": "display_data",
          "data": {
            "image/png": "[encoded data removed]",
            "text/plain": [
              "<matplotlib.figure.Figure at 0x7fd836ffc780>"
            ]
          },
          "metadata": {
            "tags": []
          }
        }
      ]
    },
    {
      "metadata": {
        "id": "pzUd4AOYzLon",
        "colab_type": "text"
      },
      "cell_type": "markdown",
      "source": [
        "## Decrypt with all possible keys\n",
        "\n",
        "Try each of the possible decription keys for the mystery message and compare it to what we learned from the training data. Create a score for each key showing how different it is from the training data."
      ]
    },
    {
      "metadata": {
        "id": "cX2h1LsgcMQ5",
        "colab_type": "code",
        "colab": {}
      },
      "cell_type": "code",
      "source": [
        "def get_scores_for_all_keys(mystery_message):\n",
        "    \"\"\"\n",
        "    Calulate a score for each possible encryption key for how\n",
        "    much like English the message is when decryted with that key\n",
        "    \"\"\"\n",
        "    key_scores = {}\n",
        "\n",
        "    # Try NUM_LETTERS decryptions, and make a score\n",
        "    for key in range(0, NUM_LETTERS):\n",
        "\n",
        "        # Make a trial decryption using this key\n",
        "        possible_decrypt = decrypt(mystery_message, key)\n",
        "\n",
        "        # Get the letter counts\n",
        "        how_trial_is = get_letter_percentages(possible_decrypt)\n",
        "\n",
        "        this_score = 0\n",
        "\n",
        "        # Calculate a score for this decrypt. \n",
        "        for c in LETTERS:\n",
        "            this_score += abs(how_trial_is[c] - how_english_is[c]) \n",
        "\n",
        "        # Remember the score for this letter\n",
        "        key_scores[key] = this_score\n",
        "        \n",
        "    return key_scores\n",
        "  \n",
        "key_scores = get_scores_for_all_keys(mystery_message)"
      ],
      "execution_count": 0,
      "outputs": []
    },
    {
      "metadata": {
        "id": "4yceI6ioshnV",
        "colab_type": "text"
      },
      "cell_type": "markdown",
      "source": [
        "Let's look at the scores for each key."
      ]
    },
    {
      "metadata": {
        "id": "DTcpFoDi276h",
        "colab_type": "code",
        "outputId": "3b1e5030-f627-4eea-b3fa-c5ec79765a34",
        "colab": {
          "base_uri": "https://localhost:8080/",
          "height": 335
        }
      },
      "cell_type": "code",
      "source": [
        "### Helper function just to print the scores -- not needed\n",
        "### for the actual learning\n",
        "def plot_scores(key_scores, title):\n",
        "  \"\"\"\n",
        "  Plot the results of a call to get_letter_percentages()\n",
        "  \"\"\"\n",
        "  index = np.arange(NUM_LETTERS)\n",
        "  bar_width = 0.7\n",
        "  cols = [key for key in range(NUM_LETTERS)]\n",
        "  vals = [key_scores[K] for K in cols]\n",
        "  plt.subplots(1, figsize=(10,5))\n",
        "  plt.bar(index, vals, width=bar_width, label=cols)\n",
        "  plt.xticks(index, cols)\n",
        "  plt.title(title)\n",
        "  plt.show() \n",
        "\n",
        "\n",
        "plot_scores(key_scores, \"Scores by key\")"
      ],
      "execution_count": 58,
      "outputs": [
        {
          "output_type": "display_data",
          "data": {
            "image/png": "[encoded data removed]",
            "text/plain": [
              "<matplotlib.figure.Figure at 0x7fd836e1b128>"
            ]
          },
          "metadata": {
            "tags": []
          }
        }
      ]
    },
    {
      "metadata": {
        "id": "eYjmwQcH0Qt9",
        "colab_type": "text"
      },
      "cell_type": "markdown",
      "source": [
        "### Do we want the low score or the high score?\n",
        "\n",
        "In Machine Learning, generally a score like this indicates how far away we are from what we want, so scores closer to 0 are better.\n",
        "\n",
        "The key we are looking for is very likely the key with the LOWEST score.\n",
        "\n",
        "### The Results\n",
        "\n",
        "\n"
      ]
    },
    {
      "metadata": {
        "id": "7nXnSOzv4TNw",
        "colab_type": "code",
        "outputId": "98c4d83a-b1c3-4491-85ed-793e77c61fa8",
        "colab": {
          "base_uri": "https://localhost:8080/",
          "height": 51
        }
      },
      "cell_type": "code",
      "source": [
        "# Find the best match\n",
        "def get_key_with_min_score(key_scores):\n",
        "    best_key = 0\n",
        "    min_so_far = key_scores[0]\n",
        "\n",
        "    for key in range(1, NUM_LETTERS):\n",
        "        if key_scores[key] < min_so_far:\n",
        "            best_key = key\n",
        "            min_so_far = key_scores[key]\n",
        "    \n",
        "    # Fancy way: best_key = min(key_scores, key=lambda x: key_scores[x])\n",
        "    return best_key\n",
        "\n",
        "# Run it\n",
        "selected_key = get_key_with_min_score(key_scores)\n",
        "print(\"Selected key:\", selected_key, \"\\n\")"
      ],
      "execution_count": 59,
      "outputs": [
        {
          "output_type": "stream",
          "text": [
            "Selected key: 17 \n",
            "\n"
          ],
          "name": "stdout"
        }
      ]
    },
    {
      "metadata": {
        "id": "eG9Oc7gWtblU",
        "colab_type": "text"
      },
      "cell_type": "markdown",
      "source": [
        "The program has picked a key. Does this key work for the message?"
      ]
    },
    {
      "metadata": {
        "id": "2gd1WWoXtQQ0",
        "colab_type": "code",
        "colab": {
          "base_uri": "https://localhost:8080/",
          "height": 1275
        },
        "outputId": "f667e842-cd21-467b-f20e-e6610e330014"
      },
      "cell_type": "code",
      "source": [
        "# Show the results\n",
        "print(decrypt(mystery_message, selected_key))"
      ],
      "execution_count": 60,
      "outputs": [
        {
          "output_type": "stream",
          "text": [
            "\"KILL THE WICKED WITCH OF THE WEST,\" ANSWERED OZ.\n",
            "\n",
            "\"BUT I CANNOT!\" EXCLAIMED DOROTHY, GREATLY SURPRISED.\n",
            "\n",
            "\"YOU KILLED THE WITCH OF THE EAST AND YOU WEAR THE SILVER SHOES, WHICH\n",
            "BEAR A POWERFUL CHARM. THERE IS NOW BUT ONE WICKED WITCH LEFT IN ALL\n",
            "THIS LAND, AND WHEN YOU CAN TELL ME SHE IS DEAD I WILL SEND YOU BACK TO\n",
            "KANSAS--BUT NOT BEFORE.\"\n",
            "\n",
            "THE LITTLE GIRL BEGAN TO WEEP, SHE WAS SO MUCH DISAPPOINTED; AND THE\n",
            "EYES WINKED AGAIN AND LOOKED UPON HER ANXIOUSLY, AS IF THE GREAT OZ\n",
            "FELT THAT SHE COULD HELP HIM IF SHE WOULD.\n",
            "\n",
            "\"I NEVER KILLED ANYTHING, WILLINGLY,\" SHE SOBBED. \"EVEN IF I WANTED TO,\n",
            "HOW COULD I KILL THE WICKED WITCH? IF YOU, WHO ARE GREAT AND TERRIBLE,\n",
            "CANNOT KILL HER YOURSELF, HOW DO YOU EXPECT ME TO DO IT?\"\n",
            "\n",
            "\"I DO NOT KNOW,\" SAID THE HEAD; \"BUT THAT IS MY ANSWER, AND UNTIL THE\n",
            "WICKED WITCH DIES YOU WILL NOT SEE YOUR UNCLE AND AUNT AGAIN. REMEMBER\n",
            "THAT THE WITCH IS WICKED--TREMENDOUSLY WICKED--AND OUGHT TO BE KILLED.\n",
            "NOW GO, AND DO NOT ASK TO SEE ME AGAIN UNTIL YOU HAVE DONE YOUR TASK.\"\n",
            "\n",
            "SORROWFULLY DOROTHY LEFT THE THRONE ROOM AND WENT BACK WHERE THE LION\n",
            "AND THE SCARECROW AND THE TIN WOODMAN WERE WAITING TO HEAR WHAT OZ HAD\n",
            "SAID TO HER. \"THERE IS NO HOPE FOR ME,\" SHE SAID SADLY, \"FOR OZ WILL\n",
            "NOT SEND ME HOME UNTIL I HAVE KILLED THE WICKED WITCH OF THE WEST; AND\n",
            "THAT I CAN NEVER DO.\"\n",
            "\n",
            "HER FRIENDS WERE SORRY, BUT COULD DO NOTHING TO HELP HER; SO DOROTHY\n",
            "WENT TO HER OWN ROOM AND LAY DOWN ON THE BED AND CRIED HERSELF TO SLEEP.\n",
            "\n",
            "THE NEXT MORNING THE SOLDIER WITH THE GREEN WHISKERS CAME TO THE\n",
            "SCARECROW AND SAID:\n",
            "\n",
            "\"COME WITH ME, FOR OZ HAS SENT FOR YOU.\"\n",
            "\n",
            "SO THE SCARECROW FOLLOWED HIM AND WAS ADMITTED INTO THE GREAT THRONE\n",
            "ROOM, WHERE HE SAW, SITTING IN THE EMERALD THRONE, A MOST LOVELY LADY.\n",
            "SHE WAS DRESSED IN GREEN SILK GAUZE AND WORE UPON HER FLOWING GREEN\n",
            "LOCKS A CROWN OF JEWELS. GROWING FROM HER SHOULDERS WERE WINGS,\n",
            "GORGEOUS IN COLOR AND SO LIGHT THAT THEY FLUTTERED IF THE SLIGHTEST\n",
            "BREATH OF AIR REACHED THEM.\n",
            "\n",
            "WHEN THE SCARECROW HAD BOWED, AS PRETTILY AS HIS STRAW STUFFING WOULD\n",
            "LET HIM, BEFORE THIS BEAUTIFUL CREATURE, SHE LOOKED UPON HIM SWEETLY,\n",
            "AND SAID:\n",
            "\n",
            "\"I AM OZ, THE GREAT AND TERRIBLE. WHO ARE YOU, AND WHY DO YOU SEEK ME?\"\n",
            "\n",
            "NOW THE SCARECROW, WHO HAD EXPECTED TO SEE THE GREAT HEAD DOROTHY HAD\n",
            "TOLD HIM OF, WAS MUCH ASTONISHED; BUT HE ANSWERED HER BRAVELY.\n",
            "\n",
            "\"I AM ONLY A SCARECROW, STUFFED WITH STRAW. THEREFORE I HAVE NO BRAINS,\n",
            "AND I COME TO YOU PRAYING THAT YOU WILL PUT BRAINS IN MY HEAD INSTEAD\n",
            "OF STRAW, SO THAT I MAY BECOME AS MUCH A MAN AS ANY OTHER IN YOUR\n",
            "DOMINIONS.\"\n",
            "\n",
            "\"WHY SHOULD I DO THIS FOR YOU?\" ASKED THE LADY.\n",
            "\n",
            "\"BECAUSE YOU ARE WISE AND POWERFUL, AND NO ONE ELSE CAN HELP ME,\"\n",
            "ANSWERED THE SCARECROW.\n",
            "\n",
            "\"I NEVER GRANT FAVORS WITHOUT SOME RETURN,\" SAID OZ; \"BUT THIS MUCH I\n",
            "WILL PROMISE. IF YOU WILL KILL FOR ME THE WICKED WITCH OF THE WEST, I\n",
            "WILL BESTOW UPON YOU A GREAT MANY BRAINS, AND SUCH GOOD BRAINS THAT YOU \n",
            "WILL BE THE WISEST MAN IN ALL THE LAND OF OZ.\"\n",
            "\n",
            "\"I THOUGHT YOU ASKED DOROTHY TO KILL THE WITCH,\" SAID THE SCARECROW, IN\n",
            "SURPRISE.\n",
            "\n",
            "\"SO I DID. I DON'T CARE WHO KILLS HER. BUT UNTIL SHE IS DEAD I WILL NOT\n",
            "GRANT YOUR WISH. NOW GO, AND DO NOT SEEK ME AGAIN UNTIL YOU HAVE EARNED\n",
            "THE BRAINS YOU SO GREATLY DESIRE.\"\n",
            "\n"
          ],
          "name": "stdout"
        }
      ]
    },
    {
      "metadata": {
        "id": "gjYY_Zdi5kM1",
        "colab_type": "text"
      },
      "cell_type": "markdown",
      "source": [
        "## Putting it all together -- another encrypted message\n"
      ]
    },
    {
      "metadata": {
        "id": "q6V5sTuq5pXM",
        "colab_type": "code",
        "outputId": "d2eefe5e-7178-4ecc-e596-0dc2d529b5d2",
        "colab": {
          "base_uri": "https://localhost:8080/",
          "height": 221
        }
      },
      "cell_type": "code",
      "source": [
        "with open(ANOTHER_MYSTERY, 'r') as f:\n",
        "    second_mystery = f.read()\n",
        "    \n",
        "print(second_mystery)"
      ],
      "execution_count": 65,
      "outputs": [
        {
          "output_type": "stream",
          "text": [
            "RFGQ GQ UYBC ZYWYPB, RFC NSZJGA GLDMPKYRGML MDDGACP DMP JMSBMSL AMSLRW \n",
            "NSZJGA QAFMMJQ. \n",
            "\n",
            "ZCAYSQC MD RFC DMPCAYQR MD GKNCLBGLE ZYB UCYRFCP, JMSBMSL AMSLRW NSZJGA\n",
            "QAFMMJQ YLB GRQ YBKGLGQRPYRGTC MDDGACQ UGJJ ZC AJMQCB RMKMPPMU. YJJ \n",
            "YARGTGRGCQ GLTMJTGLE QAFMMJ DYAGJGRGCQ YPC AYLACJJCB. \n",
            "\n",
            "RM PCNCYR, JMSBMSL AMSLRW NSZJGA QAFMMJQ YLB YBKGLGQRPYRGTC MDDGACQ \n",
            "YPC AJMQCB RMKMPPMU.\n",
            "\n",
            "UC UGJJ LMU PCNCYR RFGQ KCQQYEC GL QNYLGQF.\n",
            "\n"
          ],
          "name": "stdout"
        }
      ]
    },
    {
      "metadata": {
        "id": "p3l1Ue2j62GL",
        "colab_type": "code",
        "outputId": "6cba54e2-2d47-4f32-fbb7-82e434a5ea6c",
        "colab": {
          "base_uri": "https://localhost:8080/",
          "height": 34
        }
      },
      "cell_type": "code",
      "source": [
        "key_scores = get_scores_for_all_keys(second_mystery)\n",
        "selected_key = get_min_score(key_scores)\n",
        "print(\"Selected key:\", selected_key)"
      ],
      "execution_count": 66,
      "outputs": [
        {
          "output_type": "stream",
          "text": [
            "Selected key: 24\n"
          ],
          "name": "stdout"
        }
      ]
    },
    {
      "metadata": {
        "id": "5y8T_07y9bhw",
        "colab_type": "code",
        "outputId": "b8f502f0-ddfb-4a77-ee78-e61c61d94b64",
        "colab": {
          "base_uri": "https://localhost:8080/",
          "height": 335
        }
      },
      "cell_type": "code",
      "source": [
        "plot_scores(key_scores, \"Scores by key, second message\")"
      ],
      "execution_count": 67,
      "outputs": [
        {
          "output_type": "display_data",
          "data": {
            "image/png": "[encoded data removed]",
            "text/plain": [
              "<matplotlib.figure.Figure at 0x7fd836caa438>"
            ]
          },
          "metadata": {
            "tags": []
          }
        }
      ]
    },
    {
      "metadata": {
        "id": "uIBxPvrnu2iZ",
        "colab_type": "code",
        "colab": {
          "base_uri": "https://localhost:8080/",
          "height": 221
        },
        "outputId": "9579cbec-b70e-4b0c-cea8-f43413ed54c7"
      },
      "cell_type": "code",
      "source": [
        "# Show the results\n",
        "print(decrypt(second_mystery, selected_key))"
      ],
      "execution_count": 68,
      "outputs": [
        {
          "output_type": "stream",
          "text": [
            "THIS IS WADE BAYARD, THE PUBLIC INFORMATION OFFICER FOR LOUDOUN COUNTY \n",
            "PUBLIC SCHOOLS. \n",
            "\n",
            "BECAUSE OF THE FORECAST OF IMPENDING BAD WEATHER, LOUDOUN COUNTY PUBLIC\n",
            "SCHOOLS AND ITS ADMINISTRATIVE OFFICES WILL BE CLOSED TOMORROW. ALL \n",
            "ACTIVITIES INVOLVING SCHOOL FACILITIES ARE CANCELLED. \n",
            "\n",
            "TO REPEAT, LOUDOUN COUNTY PUBLIC SCHOOLS AND ADMINISTRATIVE OFFICES \n",
            "ARE CLOSED TOMORROW.\n",
            "\n",
            "WE WILL NOW REPEAT THIS MESSAGE IN SPANISH.\n",
            "\n"
          ],
          "name": "stdout"
        }
      ]
    }
  ]
}